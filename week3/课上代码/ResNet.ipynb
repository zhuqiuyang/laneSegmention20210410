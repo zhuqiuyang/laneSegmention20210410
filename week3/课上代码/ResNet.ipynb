{
 "cells": [
  {
   "cell_type": "code",
   "execution_count": 1,
   "metadata": {
    "id": "o51XnMbW2Zho"
   },
   "outputs": [],
   "source": [
    "import torch\n",
    "import torch.nn as nn\n",
    "\n",
    "class BasicBlock(nn.Module):\n",
    "    # resnet 18/34\n",
    "    expansion = 1\n",
    "\n",
    "    def __init__(self, in_channels, out_channels, stride=1):\n",
    "        super().__init__()\n",
    "\n",
    "        self.residual_function = nn.Sequential(\n",
    "            nn.Conv2d(in_channels, out_channels, kernel_size=3, stride=stride, padding=1, bias=False),\n",
    "            nn.BatchNorm2d(out_channels),\n",
    "            nn.ReLU(inplace=True),\n",
    "            nn.Conv2d(out_channels, out_channels * BasicBlock.expansion, kernel_size=3, padding=1, bias=False),\n",
    "            nn.BatchNorm2d(out_channels * BasicBlock.expansion)\n",
    "        )\n",
    "\n",
    "        self.shortcut = nn.Sequential()\n",
    "        if stride != 1 or in_channels != BasicBlock.expansion * out_channels:\n",
    "            self.shortcut = nn.Sequential(\n",
    "                nn.Conv2d(in_channels, out_channels * BasicBlock.expansion, kernel_size=1, stride=stride, bias=False),\n",
    "                nn.BatchNorm2d(out_channels * BasicBlock.expansion)\n",
    "            )\n",
    "\n",
    "    def forward(self, x):\n",
    "        return nn.ReLU(inplace=True)(self.residual_function(x) + self.shortcut(x))"
   ]
  },
  {
   "cell_type": "code",
   "execution_count": 2,
   "metadata": {
    "id": "H2QyBZ373NYz"
   },
   "outputs": [],
   "source": [
    "class BottleNeck(nn.Module):\n",
    "    # resnet 50/101/152\n",
    "    expansion = 4\n",
    "\n",
    "    def __init__(self, in_channels, out_channels, stride=1):\n",
    "        super().__init__()\n",
    "        self.residual_function = nn.Sequential(\n",
    "            nn.Conv2d(in_channels, out_channels, kernel_size=1, bias=False),\n",
    "            nn.BatchNorm2d(out_channels),\n",
    "            nn.ReLU(inplace=True),\n",
    "            nn.Conv2d(out_channels, out_channels, stride=stride, kernel_size=3, padding=1, bias=False),\n",
    "            nn.BatchNorm2d(out_channels),\n",
    "            nn.ReLU(inplace=True),\n",
    "            nn.Conv2d(out_channels, out_channels * BottleNeck.expansion, kernel_size=1, bias=False),\n",
    "            nn.BatchNorm2d(out_channels * BottleNeck.expansion),\n",
    "        )\n",
    "\n",
    "        self.shortcut = nn.Sequential()\n",
    "        if stride != 1 or in_channels != out_channels * BottleNeck.expansion:\n",
    "            self.shortcut = nn.Sequential(\n",
    "                nn.Conv2d(in_channels, out_channels * BottleNeck.expansion, stride=stride, kernel_size=1, bias=False),\n",
    "                nn.BatchNorm2d(out_channels * BottleNeck.expansion)\n",
    "            )\n",
    "\n",
    "    def forward(self, x):\n",
    "        return nn.ReLU(inplace=True)(self.residual_function(x) + self.shortcut(x))"
   ]
  },
  {
   "cell_type": "code",
   "execution_count": 3,
   "metadata": {
    "id": "-HpjlQWW3S4m"
   },
   "outputs": [],
   "source": [
    "class ResNet(nn.Module):\n",
    "\n",
    "    def __init__(self, in_chans, block, num_block, num_classes=100):\n",
    "        super().__init__()\n",
    "\n",
    "        self.block = block\n",
    "        self.in_channels = 64\n",
    "        self.conv1 = nn.Sequential(\n",
    "            nn.Conv2d(in_chans, 64, kernel_size=7, stride=2, padding=3, bias=False),\n",
    "            nn.BatchNorm2d(64),\n",
    "            nn.ReLU(inplace=True)\n",
    "            )\n",
    "        self.pool = nn.MaxPool2d(kernel_size=3, stride=2, padding=1)\n",
    "        self.conv2_x = self._make_layer(block, 64, num_block[0], 1)\n",
    "        self.conv3_x = self._make_layer(block, 128, num_block[1], 2)\n",
    "        self.conv4_x = self._make_layer(block, 256, num_block[2], 2)\n",
    "        self.conv5_x = self._make_layer(block, 512, num_block[3], 2)\n",
    "        self.avg_pool = nn.AdaptiveAvgPool2d((1, 1))\n",
    "        self.fc = nn.Linear(512 * block.expansion, num_classes)\n",
    "\n",
    "    def _make_layer(self, block, out_channels, num_blocks, stride):\n",
    "        strides = [stride] + [1] * (num_blocks - 1)\n",
    "        layers = []\n",
    "        for stride in strides:\n",
    "            layers.append(block(self.in_channels, out_channels, stride))\n",
    "            self.in_channels = out_channels * block.expansion\n",
    "        return nn.Sequential(*layers)\n",
    "\n",
    "    def forward(self, x):\n",
    "        f1 = self.conv1(x)\n",
    "        f2 = self.conv2_x(self.pool(f1))\n",
    "        f3 = self.conv3_x(f2)\n",
    "        f4 = self.conv4_x(f3)\n",
    "        f5 = self.conv5_x(f4)\n",
    "        output = self.avg_pool(f5)\n",
    "        output = output.view(output.size(0), -1)\n",
    "        output = self.fc(output)\n",
    "        return output"
   ]
  },
  {
   "cell_type": "code",
   "execution_count": 4,
   "metadata": {
    "id": "nKnS-O5N3Wl_"
   },
   "outputs": [],
   "source": [
    "def resnet18(in_chans):\n",
    "    return ResNet(in_chans, BasicBlock, [2, 2, 2, 2])\n",
    "\n",
    "def resnet34(in_chans):\n",
    "    return ResNet(in_chans, BasicBlock, [3, 4, 6, 3])\n",
    "\n",
    "def resnet50(in_chans):\n",
    "    return ResNet(in_chans, BottleNeck, [3, 4, 6, 3])\n",
    "\n",
    "def resnet101(in_chans):\n",
    "    return ResNet(in_chans, BottleNeck, [3, 4, 23, 3])\n",
    "\n",
    "def resnet152(in_chans):\n",
    "    return ResNet(in_chans, BottleNeck, [3, 8, 36, 3])"
   ]
  },
  {
   "cell_type": "code",
   "execution_count": 5,
   "metadata": {
    "colab": {
     "base_uri": "https://localhost:8080/"
    },
    "id": "xQ_udOJ-76fz",
    "outputId": "0d2d5f68-725a-4209-eb46-490830327907"
   },
   "outputs": [
    {
     "name": "stdout",
     "output_type": "stream",
     "text": [
      "torch.Size([2, 3, 224, 224])\n"
     ]
    },
    {
     "ename": "AttributeError",
     "evalue": "'tuple' object has no attribute 'shape'",
     "output_type": "error",
     "traceback": [
      "\u001b[1;31m---------------------------------------------------------------------------\u001b[0m",
      "\u001b[1;31mAttributeError\u001b[0m                            Traceback (most recent call last)",
      "\u001b[1;32m<ipython-input-5-a49747674d03>\u001b[0m in \u001b[0;36m<module>\u001b[1;34m\u001b[0m\n\u001b[0;32m      3\u001b[0m \u001b[0my\u001b[0m \u001b[1;33m=\u001b[0m \u001b[0mmodel\u001b[0m\u001b[1;33m(\u001b[0m\u001b[0mx\u001b[0m\u001b[1;33m)\u001b[0m\u001b[1;33m\u001b[0m\u001b[1;33m\u001b[0m\u001b[0m\n\u001b[0;32m      4\u001b[0m \u001b[0mprint\u001b[0m\u001b[1;33m(\u001b[0m\u001b[0mx\u001b[0m\u001b[1;33m.\u001b[0m\u001b[0mshape\u001b[0m\u001b[1;33m)\u001b[0m\u001b[1;33m\u001b[0m\u001b[1;33m\u001b[0m\u001b[0m\n\u001b[1;32m----> 5\u001b[1;33m \u001b[0mprint\u001b[0m\u001b[1;33m(\u001b[0m\u001b[0my\u001b[0m\u001b[1;33m.\u001b[0m\u001b[0mshape\u001b[0m\u001b[1;33m)\u001b[0m\u001b[1;33m\u001b[0m\u001b[1;33m\u001b[0m\u001b[0m\n\u001b[0m",
      "\u001b[1;31mAttributeError\u001b[0m: 'tuple' object has no attribute 'shape'"
     ]
    }
   ],
   "source": [
    "x = torch.randn((2, 3, 224, 224), dtype=torch.float32)\n",
    "model = resnet18(3)\n",
    "y = model(x)\n",
    "print(x.shape)\n",
    "print(y.shape)"
   ]
  },
  {
   "cell_type": "markdown",
   "metadata": {
    "id": "NIKr3epuBRBa"
   },
   "source": [
    "### ResNet-UNet"
   ]
  },
  {
   "cell_type": "code",
   "execution_count": 6,
   "metadata": {
    "id": "4yznV8JVBQU0"
   },
   "outputs": [],
   "source": [
    "class UNetUpBlock(nn.Module):\n",
    "  def __init__(self, in_chans, bridge_chans, out_chans, up_mode):\n",
    "    super(UNetUpBlock, self).__init__()\n",
    "    if up_mode == 'upconv':\n",
    "      self.up = nn.ConvTranspose2d(in_chans, out_chans, kernel_size=2, stride=2)\n",
    "    elif up_mode == 'upsample':\n",
    "      self.up = nn.Sequential(\n",
    "        nn.Upsample(mode='bilinear', scale_factor=2),\n",
    "        nn.Conv2d(in_chans, out_chans, kernel_size=1),\n",
    "      )\n",
    "    self.conv_block = BasicBlock(out_chans + bridge_chans, out_chans)\n",
    "\n",
    "  def center_crop(self, layer, target_size):\n",
    "    _, _, layer_height, layer_width = layer.size()\n",
    "    diff_y = (layer_height - target_size[0]) // 2\n",
    "    diff_x = (layer_width - target_size[1]) // 2\n",
    "    return layer[:, :, diff_y : (diff_y + target_size[0]), diff_x : (diff_x + target_size[1])]\n",
    "\n",
    "  def forward(self, x, bridge):\n",
    "    up = self.up(x)\n",
    "    crop = self.center_crop(bridge, up.shape[2:])\n",
    "    out = torch.cat([crop, up], dim=1)\n",
    "    out = self.conv_block(out)\n",
    "    return out"
   ]
  },
  {
   "cell_type": "code",
   "execution_count": 7,
   "metadata": {
    "id": "nN__a1MhBfPD"
   },
   "outputs": [],
   "source": [
    "class ResNet_UNet(nn.Module):\n",
    "\n",
    "  def __init__(self, in_chans=1, n_classes=2, up_mode='upconv'):\n",
    "    super(ResNet_UNet, self).__init__()\n",
    "    self.n_classes = n_classes\n",
    "    self.up_mode = 'upconv'\n",
    "    assert self.up_mode in ('upconv', 'upsample')\n",
    "\n",
    "    self.encoder = resnet34(in_chans)\n",
    "    in_chans = 512 * self.encoder.block.expansion\n",
    "\n",
    "    self.decoder = nn.ModuleList()\n",
    "    for i in range(3):\n",
    "      self.decoder.append(UNetUpBlock(in_chans, in_chans // 2, in_chans // 2, self.up_mode))\n",
    "      in_chans //= 2\n",
    "    self.decoder.append(UNetUpBlock(in_chans, 64, 64, self.up_mode))\n",
    "\n",
    "    self.cls_conv = nn.Conv2d(64, self.n_classes, kernel_size=1)\n",
    "        \n",
    "    for m in self.modules():\n",
    "      if isinstance(m, nn.Conv2d):\n",
    "        nn.init.kaiming_normal_(m.weight, mode='fan_out', nonlinearity='relu')\n",
    "      elif isinstance(m, nn.BatchNorm2d):\n",
    "        nn.init.constant_(m.weight, 1)\n",
    "        nn.init.constant_(m.bias, 0)\n",
    "\n",
    "  def forward(self, x):\n",
    "    # encoding\n",
    "    f1, f2, f3, f4, f5, _ = self.encoder(x)\n",
    "    bridges = [f1, f2, f3, f4]\n",
    "    x = f5\n",
    "\n",
    "    # decoding\n",
    "    for i, decode_layer in enumerate(self.decoder):\n",
    "      x = decode_layer(x, bridges[-i-1])\n",
    "    \n",
    "    score = self.cls_conv(x)\n",
    "    return score"
   ]
  },
  {
   "cell_type": "code",
   "execution_count": 10,
   "metadata": {
    "colab": {
     "base_uri": "https://localhost:8080/"
    },
    "id": "Dq0xrWrGD92n",
    "outputId": "f4ff306d-0702-493b-d95a-a326d17eacbe"
   },
   "outputs": [
    {
     "name": "stdout",
     "output_type": "stream",
     "text": [
      "torch.Size([2, 1, 224, 224])\n",
      "torch.Size([2, 2, 224, 224])\n"
     ]
    }
   ],
   "source": [
    "x = torch.randn((2, 1, 224, 224), dtype=torch.float32)\n",
    "unet = ResNet_UNet()\n",
    "print(x.shape)\n",
    "y = unet(x)\n",
    "print(y.shape)"
   ]
  },
  {
   "cell_type": "code",
   "execution_count": null,
   "metadata": {},
   "outputs": [],
   "source": []
  }
 ],
 "metadata": {
  "colab": {
   "collapsed_sections": [],
   "name": "ResNet.ipynb",
   "provenance": []
  },
  "kernelspec": {
   "display_name": "Python 3",
   "language": "python",
   "name": "python3"
  }
 },
 "nbformat": 4,
 "nbformat_minor": 1
}
