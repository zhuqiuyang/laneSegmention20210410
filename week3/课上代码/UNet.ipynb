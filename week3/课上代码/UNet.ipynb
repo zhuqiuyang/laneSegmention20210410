{
 "cells": [
  {
   "cell_type": "code",
   "execution_count": 1,
   "metadata": {
    "id": "LG70-y5unI9v"
   },
   "outputs": [],
   "source": [
    "import torch\n",
    "import torch.nn as nn\n",
    "import torch.nn.functional as F"
   ]
  },
  {
   "cell_type": "code",
   "execution_count": 2,
   "metadata": {
    "id": "Xlg6R7AGnQvh"
   },
   "outputs": [],
   "source": [
    "class UNetConvBlock(nn.Module):\n",
    "  def __init__(self, in_chans, out_chans, padding, batch_norm):\n",
    "    super(UNetConvBlock, self).__init__()\n",
    "    block = []\n",
    "\n",
    "    block.append(nn.Conv2d(in_chans, out_chans, kernel_size=3, padding=int(padding)))\n",
    "    if batch_norm:\n",
    "      block.append(nn.BatchNorm2d(out_chans))\n",
    "    block.append(nn.ReLU())\n",
    "\n",
    "    block.append(nn.Conv2d(out_chans, out_chans, kernel_size=3, padding=int(padding)))\n",
    "    if batch_norm:\n",
    "      block.append(nn.BatchNorm2d(out_chans))\n",
    "    block.append(nn.ReLU())\n",
    "\n",
    "    self.block = nn.Sequential(*block)\n",
    "\n",
    "  def forward(self, x):\n",
    "    out = self.block(x)\n",
    "    return out"
   ]
  },
  {
   "cell_type": "code",
   "execution_count": 3,
   "metadata": {
    "id": "h4okfUpAnR4x"
   },
   "outputs": [],
   "source": [
    "class UNetUpBlock(nn.Module):\n",
    "  def __init__(self, in_chans, out_chans, up_mode, padding):\n",
    "    super(UNetUpBlock, self).__init__()\n",
    "    if up_mode == 'upconv':\n",
    "      self.up = nn.ConvTranspose2d(in_chans, out_chans, kernel_size=2, stride=2)\n",
    "    elif up_mode == 'upsample':\n",
    "      self.up = nn.Sequential(\n",
    "        nn.Upsample(mode='bilinear', scale_factor=2),\n",
    "        nn.Conv2d(in_chans, out_chans, kernel_size=1),\n",
    "      )\n",
    "    self.conv_block = UNetConvBlock(in_chans, out_chans, padding, True)\n",
    "\n",
    "  def center_crop(self, layer, target_size):\n",
    "    _, _, layer_height, layer_width = layer.size()\n",
    "    diff_y = (layer_height - target_size[0]) // 2\n",
    "    diff_x = (layer_width - target_size[1]) // 2\n",
    "    return layer[:, :, diff_y : (diff_y + target_size[0]), diff_x : (diff_x + target_size[1])]\n",
    "\n",
    "  def forward(self, x, bridge):\n",
    "    up = self.up(x)\n",
    "    crop1 = self.center_crop(bridge, up.shape[2:])\n",
    "    out = torch.cat([crop1, up], dim=1)\n",
    "    out = self.conv_block(out)\n",
    "    return out"
   ]
  },
  {
   "cell_type": "code",
   "execution_count": 4,
   "metadata": {
    "id": "WzZRUu0UnUiX"
   },
   "outputs": [],
   "source": [
    "class UNet(nn.Module):\n",
    "\n",
    "  def __init__(self, in_chans=1, n_classes=2, padding=False, up_mode='upconv'):\n",
    "    super(UNet, self).__init__()\n",
    "    self.n_classes = n_classes\n",
    "    self.padding = padding\n",
    "    self.up_mode = 'upconv'\n",
    "    assert self.up_mode in ('upconv', 'upsample')\n",
    "\n",
    "    out_chans = 64\n",
    "    self.encoder = nn.ModuleList()\n",
    "    for i in range(5):\n",
    "      self.encoder.append(UNetConvBlock(in_chans, out_chans, self.padding, batch_norm=False))\n",
    "      in_chans = out_chans\n",
    "      out_chans *= 2\n",
    "\n",
    "    self.decoder = nn.ModuleList()\n",
    "    for i in range(4):\n",
    "      self.decoder.append(UNetUpBlock(in_chans, in_chans // 2, self.up_mode, self.padding))\n",
    "      in_chans //= 2\n",
    "\n",
    "    self.cls_conv = nn.Conv2d(in_chans, self.n_classes, kernel_size=1)\n",
    "        \n",
    "    for m in self.modules():\n",
    "      if isinstance(m, nn.Conv2d):\n",
    "        nn.init.kaiming_normal_(m.weight, mode='fan_out', nonlinearity='relu')\n",
    "      elif isinstance(m, nn.BatchNorm2d):\n",
    "        nn.init.constant_(m.weight, 1)\n",
    "        nn.init.constant_(m.bias, 0)\n",
    "\n",
    "  def forward(self, x):\n",
    "    # encoding\n",
    "    bridges = []\n",
    "    for i, encode_layer in enumerate(self.encoder):\n",
    "      x = encode_layer(x)\n",
    "      if i < len(self.encoder) - 1:\n",
    "        bridges.append(x)\n",
    "        x = F.max_pool2d(x, kernel_size=2)\n",
    "      print(x.shape)\n",
    "\n",
    "    # decoding\n",
    "    for i, decode_layer in enumerate(self.decoder):\n",
    "      x = decode_layer(x, bridges[-i-1])\n",
    "      print(x.shape)\n",
    "    \n",
    "    score = self.cls_conv(x)\n",
    "    return score"
   ]
  },
  {
   "cell_type": "code",
   "execution_count": 5,
   "metadata": {
    "colab": {
     "base_uri": "https://localhost:8080/"
    },
    "id": "CAQ4kZ1QnoGj",
    "outputId": "aefd6e96-e119-4c19-e9a8-224fa3bb43f1"
   },
   "outputs": [
    {
     "name": "stdout",
     "output_type": "stream",
     "text": [
      "torch.Size([2, 1, 572, 572])\n",
      "torch.Size([2, 64, 284, 284])\n",
      "torch.Size([2, 128, 140, 140])\n",
      "torch.Size([2, 256, 68, 68])\n",
      "torch.Size([2, 512, 32, 32])\n",
      "torch.Size([2, 1024, 28, 28])\n",
      "torch.Size([2, 512, 52, 52])\n",
      "torch.Size([2, 256, 100, 100])\n",
      "torch.Size([2, 128, 196, 196])\n",
      "torch.Size([2, 64, 388, 388])\n",
      "torch.Size([2, 2, 388, 388])\n"
     ]
    }
   ],
   "source": [
    "x = torch.randn((2, 1, 572, 572), dtype=torch.float32)\n",
    "unet = UNet(padding=False)\n",
    "print(x.shape)\n",
    "y = unet(x)\n",
    "print(y.shape)"
   ]
  },
  {
   "cell_type": "code",
   "execution_count": null,
   "metadata": {},
   "outputs": [],
   "source": []
  }
 ],
 "metadata": {
  "colab": {
   "collapsed_sections": [],
   "name": "UNet.ipynb",
   "provenance": []
  },
  "kernelspec": {
   "display_name": "Python 3",
   "language": "python",
   "name": "python3"
  },
  "language_info": {
   "codemirror_mode": {
    "name": "ipython",
    "version": 3
   },
   "file_extension": ".py",
   "mimetype": "text/x-python",
   "name": "python",
   "nbconvert_exporter": "python",
   "pygments_lexer": "ipython3",
   "version": "3.7.4"
  }
 },
 "nbformat": 4,
 "nbformat_minor": 1
}
