{
 "cells": [
  {
   "cell_type": "code",
   "execution_count": 1,
   "metadata": {
    "colab": {
     "base_uri": "https://localhost:8080/",
     "height": 350
    },
    "id": "NgAj86C9kfG2",
    "outputId": "fc65a8c8-7a4e-4b49-afd8-5ee8f0a36fa1"
   },
   "outputs": [
    {
     "ename": "ImportError",
     "evalue": "libGL.so.1: cannot open shared object file: No such file or directory",
     "output_type": "error",
     "traceback": [
      "\u001b[0;31m---------------------------------------------------------------------------\u001b[0m",
      "\u001b[0;31mImportError\u001b[0m                               Traceback (most recent call last)",
      "\u001b[0;32m/tmp/ipykernel_1309/3625740458.py\u001b[0m in \u001b[0;36m<module>\u001b[0;34m\u001b[0m\n\u001b[0;32m----> 1\u001b[0;31m \u001b[0;32mimport\u001b[0m \u001b[0mcv2\u001b[0m\u001b[0;34m\u001b[0m\u001b[0;34m\u001b[0m\u001b[0m\n\u001b[0m\u001b[1;32m      2\u001b[0m \u001b[0;32mimport\u001b[0m \u001b[0mnumpy\u001b[0m \u001b[0;32mas\u001b[0m \u001b[0mnp\u001b[0m\u001b[0;34m\u001b[0m\u001b[0;34m\u001b[0m\u001b[0m\n\u001b[1;32m      3\u001b[0m \u001b[0mimg\u001b[0m \u001b[0;34m=\u001b[0m \u001b[0mcv2\u001b[0m\u001b[0;34m.\u001b[0m\u001b[0mimread\u001b[0m\u001b[0;34m(\u001b[0m\u001b[0;34m'cat.png'\u001b[0m\u001b[0;34m)\u001b[0m\u001b[0;34m\u001b[0m\u001b[0;34m\u001b[0m\u001b[0m\n\u001b[1;32m      4\u001b[0m \u001b[0mcv2\u001b[0m\u001b[0;34m.\u001b[0m\u001b[0mimshow\u001b[0m\u001b[0;34m(\u001b[0m\u001b[0;34m'test'\u001b[0m\u001b[0;34m,\u001b[0m \u001b[0mimg\u001b[0m\u001b[0;34m)\u001b[0m\u001b[0;34m\u001b[0m\u001b[0;34m\u001b[0m\u001b[0m\n\u001b[1;32m      5\u001b[0m \u001b[0mcv2\u001b[0m\u001b[0;34m.\u001b[0m\u001b[0mwaitKey\u001b[0m\u001b[0;34m(\u001b[0m\u001b[0;36m0\u001b[0m\u001b[0;34m)\u001b[0m\u001b[0;34m\u001b[0m\u001b[0;34m\u001b[0m\u001b[0m\n",
      "\u001b[0;32m/workspace/.pip-modules/lib/python3.8/site-packages/cv2/__init__.py\u001b[0m in \u001b[0;36m<module>\u001b[0;34m\u001b[0m\n\u001b[1;32m    178\u001b[0m \u001b[0;34m\u001b[0m\u001b[0m\n\u001b[1;32m    179\u001b[0m \u001b[0;34m\u001b[0m\u001b[0m\n\u001b[0;32m--> 180\u001b[0;31m \u001b[0mbootstrap\u001b[0m\u001b[0;34m(\u001b[0m\u001b[0;34m)\u001b[0m\u001b[0;34m\u001b[0m\u001b[0;34m\u001b[0m\u001b[0m\n\u001b[0m",
      "\u001b[0;32m/workspace/.pip-modules/lib/python3.8/site-packages/cv2/__init__.py\u001b[0m in \u001b[0;36mbootstrap\u001b[0;34m()\u001b[0m\n\u001b[1;32m    150\u001b[0m     \u001b[0mpy_module\u001b[0m \u001b[0;34m=\u001b[0m \u001b[0msys\u001b[0m\u001b[0;34m.\u001b[0m\u001b[0mmodules\u001b[0m\u001b[0;34m.\u001b[0m\u001b[0mpop\u001b[0m\u001b[0;34m(\u001b[0m\u001b[0;34m\"cv2\"\u001b[0m\u001b[0;34m)\u001b[0m\u001b[0;34m\u001b[0m\u001b[0;34m\u001b[0m\u001b[0m\n\u001b[1;32m    151\u001b[0m \u001b[0;34m\u001b[0m\u001b[0m\n\u001b[0;32m--> 152\u001b[0;31m     \u001b[0mnative_module\u001b[0m \u001b[0;34m=\u001b[0m \u001b[0mimportlib\u001b[0m\u001b[0;34m.\u001b[0m\u001b[0mimport_module\u001b[0m\u001b[0;34m(\u001b[0m\u001b[0;34m\"cv2\"\u001b[0m\u001b[0;34m)\u001b[0m\u001b[0;34m\u001b[0m\u001b[0;34m\u001b[0m\u001b[0m\n\u001b[0m\u001b[1;32m    153\u001b[0m \u001b[0;34m\u001b[0m\u001b[0m\n\u001b[1;32m    154\u001b[0m     \u001b[0msys\u001b[0m\u001b[0;34m.\u001b[0m\u001b[0mmodules\u001b[0m\u001b[0;34m[\u001b[0m\u001b[0;34m\"cv2\"\u001b[0m\u001b[0;34m]\u001b[0m \u001b[0;34m=\u001b[0m \u001b[0mpy_module\u001b[0m\u001b[0;34m\u001b[0m\u001b[0;34m\u001b[0m\u001b[0m\n",
      "\u001b[0;32m~/.pyenv/versions/3.8.12/lib/python3.8/importlib/__init__.py\u001b[0m in \u001b[0;36mimport_module\u001b[0;34m(name, package)\u001b[0m\n\u001b[1;32m    125\u001b[0m                 \u001b[0;32mbreak\u001b[0m\u001b[0;34m\u001b[0m\u001b[0;34m\u001b[0m\u001b[0m\n\u001b[1;32m    126\u001b[0m             \u001b[0mlevel\u001b[0m \u001b[0;34m+=\u001b[0m \u001b[0;36m1\u001b[0m\u001b[0;34m\u001b[0m\u001b[0;34m\u001b[0m\u001b[0m\n\u001b[0;32m--> 127\u001b[0;31m     \u001b[0;32mreturn\u001b[0m \u001b[0m_bootstrap\u001b[0m\u001b[0;34m.\u001b[0m\u001b[0m_gcd_import\u001b[0m\u001b[0;34m(\u001b[0m\u001b[0mname\u001b[0m\u001b[0;34m[\u001b[0m\u001b[0mlevel\u001b[0m\u001b[0;34m:\u001b[0m\u001b[0;34m]\u001b[0m\u001b[0;34m,\u001b[0m \u001b[0mpackage\u001b[0m\u001b[0;34m,\u001b[0m \u001b[0mlevel\u001b[0m\u001b[0;34m)\u001b[0m\u001b[0;34m\u001b[0m\u001b[0;34m\u001b[0m\u001b[0m\n\u001b[0m\u001b[1;32m    128\u001b[0m \u001b[0;34m\u001b[0m\u001b[0m\n\u001b[1;32m    129\u001b[0m \u001b[0;34m\u001b[0m\u001b[0m\n",
      "\u001b[0;31mImportError\u001b[0m: libGL.so.1: cannot open shared object file: No such file or directory"
     ]
    }
   ],
   "source": [
    "import cv2\n",
    "import numpy as np\n",
    "img = cv2.imread('cat.png')\n",
    "cv2.imshow('test', img)\n",
    "cv2.waitKey(0)\n",
    "cv2.destroyAllWindows()"
   ]
  },
  {
   "cell_type": "code",
   "execution_count": null,
   "metadata": {
    "colab": {
     "base_uri": "https://localhost:8080/",
     "height": 683
    },
    "id": "b0Zo9Q0BTHz9",
    "outputId": "5d23a2f8-6c67-49ac-a253-79eb9116f2e1"
   },
   "outputs": [
    {
     "ename": "Error",
     "evalue": "Session cannot generate requests",
     "output_type": "error",
     "traceback": [
      "Error: Session cannot generate requests",
      "at w.executeCodeCell (/home/gitpod/.gitpod-code/extensions/ms-toolsai.jupyter-2021.9.100/out/client/extension.js:52:302156)",
      "at w.execute (/home/gitpod/.gitpod-code/extensions/ms-toolsai.jupyter-2021.9.100/out/client/extension.js:52:301527)",
      "at w.start (/home/gitpod/.gitpod-code/extensions/ms-toolsai.jupyter-2021.9.100/out/client/extension.js:52:297191)",
      "at async t.CellExecutionQueue.executeQueuedCells (/home/gitpod/.gitpod-code/extensions/ms-toolsai.jupyter-2021.9.100/out/client/extension.js:52:311926)",
      "at async t.CellExecutionQueue.start (/home/gitpod/.gitpod-code/extensions/ms-toolsai.jupyter-2021.9.100/out/client/extension.js:52:311466)"
     ]
    }
   ],
   "source": [
    "def unpooling(src, scale):\n",
    "  assert isinstance(scale, int)\n",
    "  src_h, src_w, channel = src.shape\n",
    "  dst_h = src_h * scale\n",
    "  dst_w = src_w * scale\n",
    "  dst = np.zeros((dst_h, dst_w, channel), dtype=src.dtype)\n",
    "  dst[::scale, ::scale] = src\n",
    "  return dst\n",
    "\n",
    "img_u = unpooling(img, 2)\n",
    "cv2.imshow('show', img_u)\n",
    "cv2.waitKey(0)\n",
    "cv2.destroyAllWindows()"
   ]
  },
  {
   "cell_type": "code",
   "execution_count": null,
   "metadata": {
    "colab": {
     "base_uri": "https://localhost:8080/",
     "height": 529
    },
    "id": "0gl-f64nlXtR",
    "outputId": "5aaf2f7e-d80f-4883-e03c-e9aea55c8bdb"
   },
   "outputs": [],
   "source": [
    "def nearest_interpolation(src, dst_size):\n",
    "  src_h, src_w, channel = src.shape\n",
    "  dst_w, dst_h = dst_size\n",
    "  x_scale = dst_w / src_w\n",
    "  y_scale = dst_h / src_h\n",
    "  dst = np.zeros((dst_h, dst_w, channel), dtype=src.dtype)\n",
    "  for c in range(channel):\n",
    "    for dst_x in range(dst_w):\n",
    "      for dst_y in range(dst_h):\n",
    "        # 计算目标图的当前坐标在源图像中的位置\n",
    "        # 数学关系：src_x + 0.5 = (dst_x + 0.5) / x_scale\n",
    "        src_x = int(round((dst_x + 0.5) / x_scale - 0.5))\n",
    "        src_y = int(round((dst_y + 0.5) / y_scale - 0.5))\n",
    "        src_x = src_x if src_x > 0 else 0\n",
    "        src_x = src_x if src_x < src_w else src_w - 1\n",
    "        src_y = src_y if src_y > 0 else 0\n",
    "        src_y = src_y if src_y < src_h else src_h - 1\n",
    "        dst[dst_y, dst_x, c] = src[src_y, src_x, c]\n",
    "  return dst\n",
    "\n",
    "img_n = nearest_interpolation(img, (512, 512))\n",
    "cv2.imshow('show', img_n)\n",
    "cv2.waitKey(0)\n",
    "cv2.destroyAllWindows()"
   ]
  },
  {
   "cell_type": "code",
   "execution_count": null,
   "metadata": {
    "colab": {
     "base_uri": "https://localhost:8080/",
     "height": 529
    },
    "id": "AEcdg2qJw6_i",
    "outputId": "c20108d9-554f-4b76-da5d-768e006f2160"
   },
   "outputs": [],
   "source": [
    "def nearest_interpolation_v1(src, dst_size):\n",
    "  src_h, src_w, channel = src.shape\n",
    "  dst_w, dst_h = dst_size\n",
    "  x_scale = dst_w / src_w\n",
    "  y_scale = dst_h / src_h\n",
    "  dst = np.zeros((dst_h, dst_w, channel), dtype=src.dtype)\n",
    "  for dst_x in range(dst_w):\n",
    "    for dst_y in range(dst_h):\n",
    "      src_x = int(round((dst_x + 0.5) / x_scale - 0.5))\n",
    "      src_y = int(round((dst_y + 0.5) / y_scale - 0.5))\n",
    "      src_x = src_x if src_x > 0 else 0\n",
    "      src_x = src_x if src_x < src_w else src_w - 1\n",
    "      src_y = src_y if src_y > 0 else 0\n",
    "      src_y = src_y if src_y < src_h else src_h - 1\n",
    "      dst[dst_y, dst_x] = src[src_y, src_x]\n",
    "  return dst\n",
    "\n",
    "img_n1 = nearest_interpolation_v1(img, (512, 512))\n",
    "cv2.imshow('show', img_n1)\n",
    "cv2.waitKey(0)\n",
    "cv2.destroyAllWindows()"
   ]
  },
  {
   "cell_type": "code",
   "execution_count": null,
   "metadata": {
    "colab": {
     "base_uri": "https://localhost:8080/",
     "height": 529
    },
    "id": "QNtQkuP9zd_c",
    "outputId": "e4bd225c-4cfe-4b54-a324-a9d213b7f31b"
   },
   "outputs": [],
   "source": [
    "def nearest_interpolation_v2(src, dst_size):\n",
    "  src_h, src_w, channel = src.shape\n",
    "  dst_w, dst_h = dst_size\n",
    "  x_scale = dst_w / src_w\n",
    "  y_scale = dst_h / src_h\n",
    "  dst_y, dst_x = np.mgrid[:dst_h, :dst_w]\n",
    "  src_x = np.around((dst_x + 0.5) / x_scale - 0.5).astype(np.int64)\n",
    "  src_y = np.around((dst_y + 0.5) / y_scale - 0.5).astype(np.int64)\n",
    "  src_x = np.clip(src_x, 0, src_w-1)\n",
    "  src_y = np.clip(src_y, 0, src_h-1)\n",
    "  dst = src[src_y, src_x].copy()\n",
    "  return dst\n",
    "\n",
    "img_n2 = nearest_interpolation_v2(img, (512, 512))\n",
    "cv2.imshow('show', img_n2)\n",
    "cv2.waitKey(0)\n",
    "cv2.destroyAllWindows()"
   ]
  },
  {
   "cell_type": "code",
   "execution_count": null,
   "metadata": {
    "colab": {
     "base_uri": "https://localhost:8080/"
    },
    "id": "-dYsrEu96hBt",
    "outputId": "5250cc6e-20cb-439c-f257-f142741f373b"
   },
   "outputs": [],
   "source": [
    "import time\n",
    "t1 = time.time()\n",
    "img_n0 = nearest_interpolation(img, (512, 512))\n",
    "t2 = time.time()\n",
    "img_n1 = nearest_interpolation_v1(img, (512, 512))\n",
    "t3 = time.time()\n",
    "img_n2 = nearest_interpolation_v2(img, (512, 512))\n",
    "t4 = time.time()\n",
    "print('Difference 0-1: ', ((img_n0 - img_n1)**2).sum())\n",
    "print('Difference 0-2: ', ((img_n0 - img_n2)**2).sum())\n",
    "print('Difference 1-2: ', ((img_n1 - img_n2)**2).sum())\n",
    "print('v0: %.6f' % (t2 - t1))\n",
    "print('v1: %.6f' % (t3 - t2))\n",
    "print('v2: %.6f' % (t4 - t3))"
   ]
  },
  {
   "cell_type": "code",
   "execution_count": null,
   "metadata": {
    "colab": {
     "base_uri": "https://localhost:8080/",
     "height": 529
    },
    "id": "-U_eGj8NoJ9I",
    "outputId": "46823bc6-bfb1-429c-cf61-8223389850d1"
   },
   "outputs": [],
   "source": [
    "def bilinear_interpolation(src, dst_size):\n",
    "  src_h, src_w, channel = src.shape\n",
    "  dst_w, dst_h = dst_size\n",
    "  x_scale = dst_w / src_w\n",
    "  y_scale = dst_h / src_h\n",
    "  dst = np.zeros((dst_h, dst_w, channel), dtype=src.dtype)\n",
    "  for c in range(channel):\n",
    "    for dst_x in range(dst_w):\n",
    "      for dst_y in range(dst_h):\n",
    "        src_x = (dst_x + 0.5) / x_scale - 0.5\n",
    "        src_y = (dst_y + 0.5) / y_scale - 0.5\n",
    "\n",
    "        src_x1 = int(src_x)\n",
    "        src_y1 = int(src_y)\n",
    "        src_x2 = src_x1 + 1\n",
    "        src_y2 = src_y1 + 1\n",
    "\n",
    "        def clip(v, vmin, vmax):\n",
    "          v = v if v >= vmin else vmin\n",
    "          v = v if v <= vmax else vmax\n",
    "          return v\n",
    "\n",
    "        src_x1 = clip(src_x1, 0, src_w-1)\n",
    "        src_x2 = clip(src_x2, 0, src_w-1)\n",
    "        src_y1 = clip(src_y1, 0, src_h-1)\n",
    "        src_y2 = clip(src_y2, 0, src_h-1)\n",
    "        \n",
    "        y1_value = (src_x - src_x1) * src[src_y1, src_x2, c] + (src_x2 - src_x) * src[src_y1, src_x1, c]\n",
    "        y2_value = (src_x - src_x1) * src[src_y2, src_x2, c] + (src_x2 - src_x) * src[src_y2, src_x1, c]\n",
    "        dst[dst_y, dst_x, c] = (src_y - src_y1) * y2_value + (src_y2 - src_y) * y1_value\n",
    "  return dst\n",
    "\n",
    "img_b = bilinear_interpolation(img, (512, 512))\n",
    "cmp_img = np.concatenate([img_n2, img_b], axis=1)\n",
    "cv2.imshow('show', cmp_img)\n",
    "cv2.waitKey(0)\n",
    "cv2.destroyAllWindows()"
   ]
  },
  {
   "cell_type": "code",
   "execution_count": null,
   "metadata": {},
   "outputs": [],
   "source": []
  },
  {
   "cell_type": "raw",
   "metadata": {},
   "source": [
    "print(1)"
   ]
  },
  {
   "cell_type": "code",
   "execution_count": null,
   "metadata": {
    "tags": []
   },
   "outputs": [],
   "source": []
  }
 ],
 "metadata": {
  "colab": {
   "collapsed_sections": [],
   "name": "upsampling.ipynb",
   "provenance": []
  },
  "interpreter": {
   "hash": "8b8334dab9339717f727a1deaf837b322d7a41c20d15cc86be99a8e69ceec8ce"
  },
  "kernelspec": {
   "display_name": "Python 3.8.12 64-bit ('3.8.12': pyenv)",
   "name": "python3"
  },
  "language_info": {
   "codemirror_mode": {
    "name": "ipython",
    "version": 3
   },
   "file_extension": ".py",
   "mimetype": "text/x-python",
   "name": "python",
   "nbconvert_exporter": "python",
   "pygments_lexer": "ipython3",
   "version": "3.8.12"
  }
 },
 "nbformat": 4,
 "nbformat_minor": 4
}
